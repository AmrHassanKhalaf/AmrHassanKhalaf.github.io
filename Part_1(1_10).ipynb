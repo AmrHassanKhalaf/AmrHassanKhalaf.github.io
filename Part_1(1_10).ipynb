{
 "cells": [
  {
   "cell_type": "markdown",
   "metadata": {},
   "source": [
    "### 04_Comments"
   ]
  },
  {
   "cell_type": "code",
   "execution_count": 2,
   "metadata": {},
   "outputs": [
    {
     "name": "stdout",
     "output_type": "stream",
     "text": [
      "I Love Python\n",
      "Programming\n",
      "Programming\n"
     ]
    },
    {
     "data": {
      "text/plain": [
       "'\\nThis is\\nNot\\nMultiple\\nLine\\nComments\\n'"
      ]
     },
     "execution_count": 2,
     "metadata": {},
     "output_type": "execute_result"
    }
   ],
   "source": [
    "# -------------------------------\n",
    "# Informations About File\n",
    "# License\n",
    "# Who Created The File\n",
    "# When The File Created\n",
    "# Why The File Created\n",
    "# Write Beside The Programming Line\n",
    "# Write Before The Programming Line\n",
    "# Prevent Code From Run\n",
    "# -------------------------------\n",
    "\n",
    "# This is Comment\n",
    "print(\"I Love Python\")  # This is Inline Comment\n",
    "print(\"Programming\")  # I Used This Method Because of Bla Bla Bla\n",
    "print(\"Programming\")  # If You Used Test Method Will Through Error\n",
    "\n",
    "\"\"\"\n",
    "This is\n",
    "Not\n",
    "Multiple\n",
    "Line\n",
    "Comments\n",
    "\"\"\""
   ]
  },
  {
   "cell_type": "markdown",
   "metadata": {},
   "source": [
    "### 05_DEALING WITH DATA"
   ]
  },
  {
   "cell_type": "markdown",
   "metadata": {},
   "source": [
    "<img src=\"005_Dealing_With_Data.jpg\" width=\"800\" />"
   ]
  },
  {
   "cell_type": "markdown",
   "metadata": {},
   "source": [
    "### 06_Some Data Types"
   ]
  },
  {
   "cell_type": "code",
   "execution_count": 11,
   "metadata": {},
   "outputs": [
    {
     "name": "stdout",
     "output_type": "stream",
     "text": [
      "<class 'int'>\n",
      "<class 'int'>\n",
      "<class 'int'>\n",
      "<class 'float'>\n",
      "<class 'float'>\n",
      "<class 'float'>\n",
      "<class 'str'>\n",
      "<class 'list'>\n",
      "<class 'tuple'>\n",
      "<class 'dict'>\n",
      "<class 'bool'>\n"
     ]
    }
   ],
   "source": [
    "# ----------------------------\n",
    "# type()\n",
    "# All Data in Python is Object\n",
    "# ----------------------------\n",
    "\n",
    "print(type(10))  # int => Integer\n",
    "print(type(100))  # int => Integer\n",
    "print(type(-50))  # int => Integer\n",
    "\n",
    "print(type(100.9))  # float => Floating Point Number\n",
    "print(type(1.950950))  # float => Floating Point Number\n",
    "print(type(-100.9595))  # float => Floating Point Number\n",
    "\n",
    "print(type(\"Hello Python\"))  # str => String\n",
    "\n",
    "print(type([1, 2, 3, 4, 5]))  # list => List\n",
    "\n",
    "print(type((1, 2, 3, 4, 5)))  # tuple => Tuple\n",
    "\n",
    "print(type({\"One\": 1, \"Two\": 2, \"Three\": 3}))  # dict => Dictionary\n",
    "\n",
    "print(type(2 == 2))  # bool => Boolean"
   ]
  },
  {
   "cell_type": "markdown",
   "metadata": {},
   "source": [
    "### 07_Variables Part One"
   ]
  },
  {
   "cell_type": "code",
   "execution_count": 15,
   "metadata": {},
   "outputs": [
    {
     "name": "stdout",
     "output_type": "stream",
     "text": [
      "Amr Hassan\n",
      "Amr Hassan\n",
      "Amr Hassan\n"
     ]
    }
   ],
   "source": [
    "# --------------------------------------\n",
    "# -- Variables --\n",
    "# ---------------\n",
    "# Syntax => [Variable Name] [Assignment Operator] [Value]\n",
    "#\n",
    "# Name Convention and Rules\n",
    "# [1] Can Start With (a-z A-Z) Or Underscore\n",
    "# [2] You Cannot With Num Or Special Characters\n",
    "# [3] Can Include (0-9) Or Underscore\n",
    "# [4] Cannot Include Special Characters\n",
    "# [5] Name:(N) is Not Like name:(n) [ Case Sensitive ]\n",
    "# --------------------------------------\n",
    "name = \"Amr Hassan\"  # Single Word => Normal\n",
    "myName = \"Amr Hassan\"  # Two Words => camelCase\n",
    "my_name = \"Amr Hassan\"  # Two Words => snake_case\n",
    "\n",
    "print(name)\n",
    "print(myName)\n",
    "print(my_name)"
   ]
  },
  {
   "cell_type": "markdown",
   "metadata": {},
   "source": [
    "### 08_Variables Part Two"
   ]
  },
  {
   "cell_type": "code",
   "execution_count": null,
   "metadata": {},
   "outputs": [],
   "source": [
    "# ---------------\n",
    "# -- Variables --\n",
    "# ---------------\n",
    "# Source Code : Original Code You Write it in Computer\n",
    "# Translation : Converting Source Code Into Machine Language\n",
    "# Compilation : Translate Code Before Run Time\n",
    "# Run-Time : Period App Take To Executing Commands\n",
    "# Interpreted : Code Translated On The Fly During Execution\n",
    "# --------------------------------------------------------\n",
    "\n",
    "# Reserved Words\n",
    "help(\"keywords\")\n",
    "\n",
    "a, b, c = 1, 2, 3\n",
    "\n",
    "print(a)\n",
    "print(b)\n",
    "print(c)"
   ]
  },
  {
   "cell_type": "markdown",
   "metadata": {},
   "source": [
    "### 09_Escape Sequences Characters"
   ]
  },
  {
   "cell_type": "code",
   "execution_count": 36,
   "metadata": {},
   "outputs": [
    {
     "name": "stdout",
     "output_type": "stream",
     "text": [
      "HellWorld\n",
      "Hello I Love Python\n",
      "I Love Back Slash \\\n",
      "I Love Single Quote 'Test' \n",
      "I Love Double Quotes \"Test\" \n",
      "Hello World\n",
      "Second Line\n",
      "Abcde6\n",
      "Hello\tPython\n",
      "Os\n"
     ]
    }
   ],
   "source": [
    "# ----------------------------\n",
    "# Escape Sequences Characters\n",
    "# \\b => Back Space\n",
    "# \\newline => Escape New Line + \\\n",
    "# \\\\ => Escape Back Slash\n",
    "# \\' => Escape Single Quotes\n",
    "# \\\" => Escape Double Quotes\n",
    "# \\n => Line Feed\n",
    "# \\r => Carriage Return\n",
    "# \\t => Horizontal Tab\n",
    "# \\xhh => Character Hex Value\n",
    "# ----------------------------\n",
    "\n",
    "# Back Space\n",
    "print(\"Hello\\bWorld\")  # Will Remove o\n",
    "\n",
    "# Escape New Line + Back Slash\n",
    "print(\"Hello \\\n",
    "I Love \\\n",
    "Python\")\n",
    "\n",
    "# Escape Back Slash\n",
    "print(\"I Love Back Slash \\\\\")\n",
    "\n",
    "# Escape Single Quote\n",
    "print('I Love Single Quote \\'Test\\' ')\n",
    "\n",
    "# Escape Double Quotes\n",
    "print(\"I Love Double Quotes \\\"Test\\\" \")\n",
    "\n",
    "# Line Feed\n",
    "print(\"Hello World\\nSecond Line\")\n",
    "\n",
    "# Carriage Return\n",
    "print(\"123456\\rAbcde\")\n",
    "\n",
    "# Horizontal Tab\n",
    "print(\"Hello\\tPython\")\n",
    "\n",
    "# Character Hex Value\n",
    "print(\"\\x4F\\x73\")"
   ]
  },
  {
   "cell_type": "code",
   "execution_count": 35,
   "metadata": {},
   "outputs": [
    {
     "name": "stdout",
     "output_type": "stream",
     "text": [
      "Hall\n",
      "hallo world\n",
      "Amr \\\n",
      "amr hassan \"test\" \n",
      "hallo\n",
      "world\n",
      "Abcd56\n",
      "hallo\tAmr\n",
      "O\n"
     ]
    }
   ],
   "source": [
    "# \\b Back space \n",
    "print(\"Hallo\\b\")\n",
    "# \\newline \n",
    "print(\"hallo \\\n",
    "world\")\n",
    "# escape back slash\n",
    "print(\"Amr \\\\\")\n",
    "# escape single quote \n",
    "print(\"amr hassan \\\"test\\\" \")\n",
    "# line feed\n",
    "print(\"hallo\\nworld\")\n",
    "# carriage return\n",
    "print(\"123456\\rAbcd\")\n",
    "#\\t horizontal Tab\n",
    "print('hallo\\tAmr')\n",
    "# \\xhh hex value\n",
    "print(\"\\x4F\")"
   ]
  },
  {
   "cell_type": "markdown",
   "metadata": {},
   "source": [
    "### 10_Concatenation And Training"
   ]
  },
  {
   "cell_type": "code",
   "execution_count": 46,
   "metadata": {},
   "outputs": [
    {
     "name": "stdout",
     "output_type": "stream",
     "text": [
      "I Love Python\n",
      "I Love Python\n",
      "First Second Third\n",
      "A B C\n"
     ]
    },
    {
     "ename": "TypeError",
     "evalue": "can only concatenate str (not \"int\") to str",
     "output_type": "error",
     "traceback": [
      "\u001b[1;31m---------------------------------------------------------------------------\u001b[0m",
      "\u001b[1;31mTypeError\u001b[0m                                 Traceback (most recent call last)",
      "Cell \u001b[1;32mIn[46], line 22\u001b[0m\n\u001b[0;32m     16\u001b[0m b \u001b[38;5;241m=\u001b[39m \u001b[38;5;124m\"\u001b[39m\u001b[38;5;124mA \u001b[39m\u001b[38;5;130;01m\\\u001b[39;00m\n\u001b[0;32m     17\u001b[0m \u001b[38;5;124mB \u001b[39m\u001b[38;5;130;01m\\\u001b[39;00m\n\u001b[0;32m     18\u001b[0m \u001b[38;5;124mC\u001b[39m\u001b[38;5;124m\"\u001b[39m\n\u001b[0;32m     20\u001b[0m \u001b[38;5;28mprint\u001b[39m(a \u001b[38;5;241m+\u001b[39m \u001b[38;5;124m\"\u001b[39m\u001b[38;5;130;01m\\n\u001b[39;00m\u001b[38;5;124m\"\u001b[39m \u001b[38;5;241m+\u001b[39m b)\n\u001b[1;32m---> 22\u001b[0m \u001b[38;5;28mprint\u001b[39m(\u001b[38;5;124m\"\u001b[39m\u001b[38;5;124mHello \u001b[39m\u001b[38;5;124m\"\u001b[39m \u001b[38;5;241m+\u001b[39m \u001b[38;5;241m1\u001b[39m)\n",
      "\u001b[1;31mTypeError\u001b[0m: can only concatenate str (not \"int\") to str"
     ]
    }
   ],
   "source": [
    "# -------------------\n",
    "# -- Concatenation --\n",
    "# -------------------\n",
    "\n",
    "msg = \"I Love\"\n",
    "lang = \"Python\"\n",
    "print(msg + \" \" + lang)\n",
    "\n",
    "full = msg + \" \" + lang\n",
    "print(full)\n",
    "\n",
    "a = \"First \\\n",
    "Second \\\n",
    "Third\"\n",
    "\n",
    "b = \"A \\\n",
    "B \\\n",
    "C\"\n",
    "\n",
    "print(a + \"\\n\" + b)\n",
    "\n",
    "print(\"Hello \" + 1)  # Error"
   ]
  },
  {
   "cell_type": "code",
   "execution_count": 45,
   "metadata": {},
   "outputs": [
    {
     "name": "stdout",
     "output_type": "stream",
     "text": [
      "i love python (Amr)\n",
      "i love python (Amr)\n",
      "FRIST Second third A b c\n",
      "FRIST Second third \n",
      "A b c\n"
     ]
    }
   ],
   "source": [
    "massage=\"i love python\"\n",
    "long=\"(Amr)\"\n",
    "print(massage+\" \"+long)\n",
    "full=massage+\" \"+long\n",
    "print(full)\n",
    "a=\"FRIST \\\n",
    "Second \\\n",
    "third \"\n",
    "b=\"A \\\n",
    "b \\\n",
    "c\"\n",
    "print(a+b)\n",
    "print(a+\"\\n\"+b)\n"
   ]
  }
 ],
 "metadata": {
  "kernelspec": {
   "display_name": "base",
   "language": "python",
   "name": "python3"
  },
  "language_info": {
   "codemirror_mode": {
    "name": "ipython",
    "version": 3
   },
   "file_extension": ".py",
   "mimetype": "text/x-python",
   "name": "python",
   "nbconvert_exporter": "python",
   "pygments_lexer": "ipython3",
   "version": "3.11.7"
  }
 },
 "nbformat": 4,
 "nbformat_minor": 2
}
